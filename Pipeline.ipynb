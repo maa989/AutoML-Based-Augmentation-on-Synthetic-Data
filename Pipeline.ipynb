{
 "cells": [
  {
   "cell_type": "code",
   "execution_count": 1,
   "id": "3525f72f",
   "metadata": {},
   "outputs": [],
   "source": [
    "from __future__ import print_function, division\n",
    "import os\n",
    "import time\n",
    "import warnings\n",
    "warnings.filterwarnings(\"ignore\")\n",
    "\n",
    "import pandas as pd\n",
    "import numpy as np\n",
    "\n",
    "# torch\n",
    "import torch\n",
    "import torch.nn as nn\n",
    "import torch.nn.functional as F\n",
    "import torch.optim as optim\n",
    "from torch.utils.data import DataLoader\n",
    "from torch.utils.tensorboard import SummaryWriter\n",
    "from torchsummary import summary\n",
    "torch.set_default_dtype(torch.float32)\n",
    "torch.set_default_tensor_type('torch.cuda.FloatTensor')\n",
    "torch.backends.cudnn.enabled\n",
    "\n",
    "from network import UNet as Model\n",
    "from Config import config as Config\n",
    "from AugBlock import augBlock\n",
    "from gtaV_helper import GTA5\n",
    "from cityscapes_helper import CitySpaceseDataset"
   ]
  },
  {
   "cell_type": "code",
   "execution_count": 7,
   "id": "1a527616",
   "metadata": {},
   "outputs": [],
   "source": [
    "\n",
    "\n",
    "RESULT_FOLDER = '/Result'\n",
    "TENSORBOARD_PREFIX = f'{RESULT_FOLDER}/tensorboard'\n",
    "\n",
    "def iou(outputs, labels):\n",
    "    outputs = outputs.squeeze(1) \n",
    "    \n",
    "    intersection = (outputs & labels).float().sum((1, 2))  # Will be zero if Truth=0 or Prediction=0\n",
    "    union = (outputs | labels).float().sum((1, 2))         # Will be zzero if both are 0\n",
    "    \n",
    "    iou = (intersection + SMOOTH) / (union + SMOOTH)  # We smooth our devision to avoid 0/0\n",
    "    \n",
    "    thresholded = torch.clamp(20 * (iou - 0.5), 0, 10).ceil() / 10  # This is equal to comparing with thresolds\n",
    "    \n",
    "    return thresholded\n",
    "\n",
    "def CEL(pred,target):\n",
    "    criterion = nn.CrossEntropyLoss()\n",
    "    loss = criterion(pred,target)\n",
    "    return loss\n",
    "\n",
    "def train(model, train_loader, aug_train_loader, optimizer, scheduler, writer, cfg=None, test_loader = None):  \n",
    "    best_loss = 1e10\n",
    "    best_val = 100\n",
    "    count = 0\n",
    "\n",
    "    # looping over given number of epochs\n",
    "    for epoch in range(cfg.num_epochs):\n",
    "        tic = time.time()\n",
    "        # scheduler.step()\n",
    "        model.train()\n",
    "\n",
    "        for inputs, targets in train_loader:\n",
    "            count += 1\n",
    "\n",
    "            inputs = inputs.cuda()\n",
    "            targets = targets.cuda()\n",
    "\n",
    "            optimizer.zero_grad()\n",
    "            preds = model(inputs)\n",
    "            loss = CEL(preds, targets)\n",
    "\n",
    "            loss.backward()\n",
    "            optimizer.step()\n",
    "\n",
    "            # tensorboard logging\n",
    "            writer.add_scalar('Train/Loss', loss.item(), count)\n",
    "\n",
    "            print(f'Epoch:{epoch}, Step:{count}, Loss:{loss.item():.6f}, BestVal:{best_val:.6f}, Time:{time.time()-tic}')\n",
    "            tic = time.time()\n",
    "\n",
    "\n",
    "        for inputs, targets in aug_train_loader:\n",
    "            count += 1\n",
    "\n",
    "            inputs = inputs.cuda()\n",
    "            targets = targets.cuda()\n",
    "\n",
    "            optimizer.zero_grad()\n",
    "            preds = model(inputs)\n",
    "            loss = CEL(preds, targets)\n",
    "\n",
    "            loss.backward()\n",
    "            optimizer.step()\n",
    "\n",
    "            # tensorboard logging\n",
    "            writer.add_scalar('Train/Loss', loss.item(), count)\n",
    "\n",
    "            print(f'Epoch:{epoch}, Step:{count}, Loss:{loss.item():.6f}, BestVal:{best_val:.6f}, Time:{time.time()-tic}')\n",
    "            tic = time.time()\n",
    "\n",
    "        if cfg.val_freq != None and epoch%cfg.val_freq==0:\n",
    "            val_loss, best_val = eval_model(model, test_loader, best_val=best_val, cfg=cfg)\n",
    "            writer.add_scalar('Val/Loss', val_loss, count)\n",
    "        \n",
    "    return best_val\n",
    "\n",
    "def eval_model(model, test_loader,best_val=100, cfg=None):\n",
    "\n",
    "    # Set model to evaluate mode\n",
    "    model.eval()\n",
    "\n",
    "    n_samples = 0\n",
    "    avg_loss = 0\n",
    "\n",
    "    # check dataset type\n",
    "    for inputs, targets in test_loader:\n",
    "        inputs = inputs.cuda()\n",
    "        targets = targets.cuda()\n",
    "\n",
    "        with torch.set_grad_enabled(False):\n",
    "            preds = model(inputs)  \n",
    "            preds = torch.clip(preds, 0, 1)\n",
    "\n",
    "            loss = iou(preds, targets) \n",
    "            # NMSE\n",
    "\n",
    "            avg_loss += (loss.item() * inputs.shape[0])\n",
    "            n_samples += inputs.shape[0]\n",
    "\n",
    "    avg_loss = avg_loss / (n_samples + 1e-7)\n",
    "\n",
    "    if avg_loss < best_val:\n",
    "        best_val = avg_loss\n",
    "        # save ckpt\n",
    "        torch.save(model.state_dict(), f'{RESULT_FOLDER}/{cfg.exp_name}/model_{best_val:.5f}.pt')\n",
    "        print(f'[*] model saved to: {RESULT_FOLDER}/{cfg.exp_name}/model_{best_val:.5f}.pt')\n",
    "\n",
    "    model.train()\n",
    "    return avg_loss, best_val\n",
    "\n",
    "\n",
    "# def train_test_run(cfg,writer,train_path,test_path):\n",
    "#     cfg = Config()\n",
    "    \n",
    "#     os.makedirs(TENSORBOARD_PREFIX, exist_ok=True)\n",
    "#     os.makedirs(f'{RESULT_FOLDER}/{cfg.exp_name}', exist_ok=True)   \n",
    "\n",
    "#     writer = SummaryWriter(log_dir=f'{TENSORBOARD_PREFIX}/{cfg.exp_name}')\n",
    "    \n",
    "#     data_train = Cityscapes_data(train_path, split='train', mode='fine',target_type='semantic')\n",
    "#     data_test = GTA5(test_path)\n",
    "        \n",
    "#     train_loader =  DataLoader(data_train, batch_size=cfg.batch_size, shuffle=True, drop_last=True, num_workers=cfg.num_workers, pin_memory=False, generator=torch.Generator(device='cuda'))\n",
    "#     test_loader =  DataLoader(data_test, batch_size=cfg.batch_size, shuffle=False, num_workers=cfg.num_workers, pin_memory=False, generator=torch.Generator(device='cuda'))\n",
    "        \n",
    "\n",
    "#     # init model \n",
    "#     model = Model()\n",
    "#     model.cuda()\n",
    "\n",
    "#     # init optimizer and scheduler\n",
    "#     optimizer = optim.Adam(model.parameters(), lr=cfg.lr)\n",
    "#     scheduler = optim.lr_scheduler.StepLR(optimizer, step_size=cfg.step, gamma=cfg.lr_decay)\n",
    "\n",
    "#     best_val_train = train(model, train_loader, optimizer, scheduler, writer, cfg=cfg)\n",
    "\n",
    "#     print('[*] train ends... ')\n",
    "#     print(f'[*] best val loss train: {best_val_train}')\n",
    "\n",
    "#     final_loss, best_val_test = (model, test_loader, best_val=100, cfg=None)\n",
    "#     print('[*] Eval ends... ')\n",
    "#     print(f'[*] best val loss test: {best_val_test}')\n",
    "    \n",
    "#     return best_val_test\n"
   ]
  },
  {
   "cell_type": "code",
   "execution_count": 2,
   "id": "1d836026",
   "metadata": {},
   "outputs": [],
   "source": [
    "from gtaV_helper import GTA5\n",
    "import matplotlib.pyplot as plt"
   ]
  },
  {
   "cell_type": "code",
   "execution_count": 3,
   "id": "1f9e0787",
   "metadata": {},
   "outputs": [],
   "source": [
    "data_train = GTA5('B:/Notes/SEM 3/EE641/Project/GTA5/data/')"
   ]
  },
  {
   "cell_type": "code",
   "execution_count": 4,
   "id": "5ef6d683",
   "metadata": {},
   "outputs": [],
   "source": [
    "from torch.utils.data import DataLoader\n",
    "train_loader =  DataLoader(data_train, batch_size=5, shuffle=True, drop_last=True, num_workers=0, pin_memory=False, generator=torch.Generator(device='cuda'))"
   ]
  },
  {
   "cell_type": "code",
   "execution_count": 5,
   "id": "08e36555",
   "metadata": {},
   "outputs": [],
   "source": [
    "inputs, targets = next(iter(train_loader))"
   ]
  },
  {
   "cell_type": "code",
   "execution_count": 6,
   "id": "dfdb62cb",
   "metadata": {},
   "outputs": [],
   "source": [
    "from AugBlock import augBlock"
   ]
  },
  {
   "cell_type": "code",
   "execution_count": 7,
   "id": "8247de11",
   "metadata": {
    "scrolled": true
   },
   "outputs": [
    {
     "data": {
      "text/plain": [
       "torch.Size([5, 256, 455, 3])"
      ]
     },
     "execution_count": 7,
     "metadata": {},
     "output_type": "execute_result"
    }
   ],
   "source": [
    "inputs.cpu().size()"
   ]
  },
  {
   "cell_type": "code",
   "execution_count": 8,
   "id": "f128df34",
   "metadata": {},
   "outputs": [
    {
     "data": {
      "text/plain": [
       "torch.Size([5, 256, 455])"
      ]
     },
     "execution_count": 8,
     "metadata": {},
     "output_type": "execute_result"
    }
   ],
   "source": [
    "targets.cpu().size()"
   ]
  },
  {
   "cell_type": "code",
   "execution_count": 9,
   "id": "bffc7235",
   "metadata": {},
   "outputs": [],
   "source": [
    "inputs = np.transpose(inputs.cpu(), [0,3,1,2]) "
   ]
  },
  {
   "cell_type": "code",
   "execution_count": 10,
   "id": "46f26dd9",
   "metadata": {},
   "outputs": [],
   "source": [
    "dp = augBlock(inputs.cpu().numpy(), targets.cpu().numpy())"
   ]
  },
  {
   "cell_type": "code",
   "execution_count": 25,
   "id": "8c62c328",
   "metadata": {},
   "outputs": [
    {
     "name": "stdout",
     "output_type": "stream",
     "text": [
      "torch.Size([5, 3, 256, 455]) torch.Size([5, 256, 455])\n"
     ]
    }
   ],
   "source": [
    "aug_inputs, aug_targets = next(iter(dp))"
   ]
  },
  {
   "cell_type": "code",
   "execution_count": 11,
   "id": "227b106b",
   "metadata": {},
   "outputs": [],
   "source": [
    "inputs2, labels = next(iter(dp))"
   ]
  },
  {
   "cell_type": "code",
   "execution_count": 12,
   "id": "88809854",
   "metadata": {},
   "outputs": [
    {
     "data": {
      "text/plain": [
       "True"
      ]
     },
     "execution_count": 12,
     "metadata": {},
     "output_type": "execute_result"
    }
   ],
   "source": [
    "inputs.cpu().numpy().shape == inputs2.cpu().numpy().shape"
   ]
  },
  {
   "cell_type": "code",
   "execution_count": 13,
   "id": "ff56d574",
   "metadata": {},
   "outputs": [
    {
     "data": {
      "text/plain": [
       "True"
      ]
     },
     "execution_count": 13,
     "metadata": {},
     "output_type": "execute_result"
    }
   ],
   "source": [
    "targets.cpu().numpy().shape == labels.cpu().numpy().shape"
   ]
  },
  {
   "cell_type": "code",
   "execution_count": 14,
   "id": "fcb7f705",
   "metadata": {},
   "outputs": [],
   "source": [
    "from cityscapes_helper import CitySpaceseDataset"
   ]
  },
  {
   "cell_type": "code",
   "execution_count": 15,
   "id": "0831adb3",
   "metadata": {},
   "outputs": [],
   "source": [
    "data_test = CitySpaceseDataset('B:/Notes/SEM 3/EE641/Project/Cityscapes/')"
   ]
  },
  {
   "cell_type": "code",
   "execution_count": 16,
   "id": "7a5a7fc0",
   "metadata": {},
   "outputs": [],
   "source": [
    "test_loader =  DataLoader(data_train, batch_size=5, shuffle=True, drop_last=True, num_workers=0, pin_memory=False, generator=torch.Generator(device='cuda'))"
   ]
  },
  {
   "cell_type": "code",
   "execution_count": 17,
   "id": "019afb05",
   "metadata": {},
   "outputs": [],
   "source": [
    "inputs, targets = next(iter(train_loader))"
   ]
  },
  {
   "cell_type": "code",
   "execution_count": 18,
   "id": "7a6c071f",
   "metadata": {},
   "outputs": [
    {
     "data": {
      "text/plain": [
       "torch.Size([5, 256, 455, 3])"
      ]
     },
     "execution_count": 18,
     "metadata": {},
     "output_type": "execute_result"
    }
   ],
   "source": [
    "inputs.cpu().size()"
   ]
  },
  {
   "cell_type": "code",
   "execution_count": 19,
   "id": "3d70bfc2",
   "metadata": {},
   "outputs": [
    {
     "data": {
      "text/plain": [
       "torch.Size([5, 256, 455])"
      ]
     },
     "execution_count": 19,
     "metadata": {},
     "output_type": "execute_result"
    }
   ],
   "source": [
    "targets.cpu().size()"
   ]
  },
  {
   "cell_type": "code",
   "execution_count": 20,
   "id": "b66615f1",
   "metadata": {},
   "outputs": [
    {
     "name": "stdout",
     "output_type": "stream",
     "text": [
      "torch.Size([5, 3, 256, 455])\n",
      "torch.Size([5, 256, 455])\n"
     ]
    }
   ],
   "source": [
    "for inputs, targets in dp:\n",
    "    print(inputs.cpu().size())\n",
    "    print(targets.cpu().size())"
   ]
  },
  {
   "cell_type": "code",
   "execution_count": 130,
   "id": "ca1f6b77",
   "metadata": {},
   "outputs": [],
   "source": [
    "def CEL(pred,target):\n",
    "    criterion = nn.CrossEntropyLoss()\n",
    "    pred = torch.squeeze(pred)\n",
    "    target = torch.squeeze(target)\n",
    "    loss = criterion(pred,target)\n",
    "    return loss\n",
    "def MSE(pred,target):\n",
    "    criterion = nn.MSELoss()\n",
    "    loss = criterion(pred,target)\n",
    "    return loss \n",
    "def NLL(pred,target):\n",
    "    criterion = nn.NLLLoss\n",
    "    loss = criterion(pred,target)\n",
    "def train(model, train_loader, optimizer, scheduler,  cfg=None, test_loader = None):  #writer\n",
    "    best_loss = 1e10\n",
    "    best_val = 100\n",
    "    count = 0\n",
    "\n",
    "    # looping over given number of epochs\n",
    "    for epoch in range(1):\n",
    "        tic = time.time()\n",
    "        # scheduler.step()\n",
    "        model.train()\n",
    "\n",
    "        for inputs, targets in train_loader:\n",
    "            count += 1\n",
    "\n",
    "            inputs = inputs.cpu().type(torch.float32)\n",
    "            inputs = np.transpose(inputs, [0,3,1,2]) \n",
    "            targets = targets.cpu().type(torch.float32)\n",
    "            targets = targets[:,None,:,:]\n",
    "#             print(targets.dtype, targets.size())\n",
    "            \n",
    "            \n",
    "#             optimizer.zero_grad()\n",
    "#             preds = model(inputs)\n",
    "#             print(preds.dtype,preds.size())\n",
    "#             loss = CEL(preds, targets)\n",
    "\n",
    "#             loss.backward()\n",
    "#             optimizer.step()\n",
    "\n",
    "            # tensorboard logging\n",
    "#             writer.add_scalar('Train/Loss', loss.item(), count)\n",
    "            \n",
    "            # Augmented data training\n",
    "            aug_data = augBlock(inputs.cpu().numpy(), targets.cpu().numpy())\n",
    "            aug_inputs, aug_targets = next(iter(aug_data))\n",
    "            \n",
    "            aug_inputs = aug_inputs.cpu()\n",
    "            aug_targets = aug_targets.cpu()\n",
    "\n",
    "            optimizer.zero_grad()\n",
    "            aug_preds = model(aug_inputs)\n",
    "            loss = CEL(aug_preds, aug_targets)\n",
    "\n",
    "            loss.backward()\n",
    "            optimizer.step()\n",
    "\n",
    "            tensorboard logging\n",
    "            writer.add_scalar('Train/Loss', loss.item(), count)\n",
    "\n",
    "            print(f'Epoch:{epoch}, Step:{count}, Loss:{loss.item():.6f}, BestVal:{best_val:.6f}, Time:{time.time()-tic}')\n",
    "            tic = time.time()\n",
    "            \n",
    "            if count == 2:\n",
    "                break\n",
    "\n",
    "    return loss.item()"
   ]
  },
  {
   "cell_type": "code",
   "execution_count": 131,
   "id": "172870c4",
   "metadata": {},
   "outputs": [
    {
     "name": "stdout",
     "output_type": "stream",
     "text": [
      "Epoch:0, Step:1, Loss:16327.634766, BestVal:100.000000, Time:21.555428743362427\n",
      "Epoch:0, Step:2, Loss:15658.108398, BestVal:100.000000, Time:21.75443744659424\n"
     ]
    }
   ],
   "source": [
    "from network import UNet as Model\n",
    "model = Model()\n",
    "model.cpu()\n",
    "optimizer = optim.Adam(model.parameters(), lr=1e-4 )\n",
    "scheduler = optim.lr_scheduler.StepLR(optimizer, step_size=5, gamma=0.5)\n",
    "val = train(model, train_loader, optimizer, scheduler, cfg=None, test_loader = None)"
   ]
  },
  {
   "cell_type": "code",
   "execution_count": 134,
   "id": "62bb725c",
   "metadata": {},
   "outputs": [],
   "source": [
    "from torchmetrics import JaccardIndex, Dice"
   ]
  },
  {
   "cell_type": "code",
   "execution_count": 139,
   "id": "b1fcc9d3",
   "metadata": {},
   "outputs": [],
   "source": [
    "def dice(pred, targets):\n",
    "    criterion = Dice(average='micro')\n",
    "    loss = 0\n",
    "    for i in range(len(pred)):\n",
    "        print(targets[i][0].size())\n",
    "        loss += criterion(torch.squeeze(pred[i][0].type(torch.int)),torch.squeeze(targets[i][0].type(torch.int)))\n",
    "    return loss/len(pred)\n",
    "\n",
    "def eval_model(model, test_loader,best_val=100, cfg=None):\n",
    "\n",
    "    # Set model to evaluate mode\n",
    "    model.eval()\n",
    "\n",
    "    n_samples = 0\n",
    "    avg_loss = 0\n",
    "    count = 0\n",
    "    # check dataset type\n",
    "    for inputs, targets in test_loader:\n",
    "        count += 1\n",
    "        inputs = inputs.cpu().type(torch.float32)\n",
    "        inputs = np.transpose(inputs, [0,3,1,2]) \n",
    "        targets = targets.cpu().type(torch.float32)\n",
    "        targets = targets[:,None,:,:]\n",
    "\n",
    "        with torch.set_grad_enabled(False):\n",
    "            preds = model(inputs)  \n",
    "#             preds = torch.clip(preds, 0, 1)\n",
    "            print(preds.dtype,preds.size())\n",
    "            loss = dice(preds, targets) \n",
    "            # NMSE\n",
    "            \n",
    "            print(f'Loss:{loss.item():.6f}')\n",
    "#             avg_loss += (loss.item() * inputs.shape[0])\n",
    "#             n_samples += inputs.shape[0]\n",
    "        print(count)\n",
    "        if count == 2:\n",
    "            break\n",
    "\n",
    "#     model.train()\n",
    "    \n",
    "    return loss.item()"
   ]
  },
  {
   "cell_type": "code",
   "execution_count": 141,
   "id": "e89fae09",
   "metadata": {
    "scrolled": true
   },
   "outputs": [
    {
     "name": "stdout",
     "output_type": "stream",
     "text": [
      "torch.float32 torch.Size([5, 1, 256, 455])\n",
      "torch.Size([256, 455])\n",
      "torch.Size([256, 455])\n",
      "torch.Size([256, 455])\n",
      "torch.Size([256, 455])\n",
      "torch.Size([256, 455])\n",
      "Loss:0.019619\n",
      "1\n",
      "torch.float32 torch.Size([5, 1, 256, 455])\n",
      "torch.Size([256, 455])\n",
      "torch.Size([256, 455])\n",
      "torch.Size([256, 455])\n",
      "torch.Size([256, 455])\n",
      "torch.Size([256, 455])\n",
      "Loss:0.009904\n",
      "2\n"
     ]
    },
    {
     "data": {
      "text/plain": [
       "(0, 100)"
      ]
     },
     "execution_count": 141,
     "metadata": {},
     "output_type": "execute_result"
    }
   ],
   "source": [
    "eval_model(model, test_loader,best_val=100, cfg=None)"
   ]
  },
  {
   "cell_type": "code",
   "execution_count": null,
   "id": "c390bed1",
   "metadata": {},
   "outputs": [],
   "source": []
  }
 ],
 "metadata": {
  "kernelspec": {
   "display_name": "Python 3 (ipykernel)",
   "language": "python",
   "name": "python3"
  },
  "language_info": {
   "codemirror_mode": {
    "name": "ipython",
    "version": 3
   },
   "file_extension": ".py",
   "mimetype": "text/x-python",
   "name": "python",
   "nbconvert_exporter": "python",
   "pygments_lexer": "ipython3",
   "version": "3.9.7"
  }
 },
 "nbformat": 4,
 "nbformat_minor": 5
}
